{
 "cells": [
  {
   "cell_type": "code",
   "execution_count": 6,
   "metadata": {},
   "outputs": [],
   "source": [
    "# 1'den 5'e (5 dahil) kadar olan rakamları while döngüsünde yazdırınız. "
   ]
  },
  {
   "cell_type": "code",
   "execution_count": 1,
   "metadata": {},
   "outputs": [
    {
     "name": "stdout",
     "output_type": "stream",
     "text": [
      "1\n",
      "2\n",
      "3\n",
      "4\n",
      "5\n"
     ]
    }
   ],
   "source": [
    "x = 1\n",
    "\n",
    "while x <= 5:\n",
    "    print(x)\n",
    "    x +=1"
   ]
  },
  {
   "cell_type": "code",
   "execution_count": 5,
   "metadata": {},
   "outputs": [],
   "source": [
    "# 1'den 5'e (5 dahil) kadar olan rakamların karelerini while döngüsünde yazdırınız. "
   ]
  },
  {
   "cell_type": "code",
   "execution_count": 2,
   "metadata": {},
   "outputs": [
    {
     "name": "stdout",
     "output_type": "stream",
     "text": [
      "1\n",
      "4\n",
      "9\n",
      "16\n",
      "25\n"
     ]
    }
   ],
   "source": [
    "x = 1\n",
    "\n",
    "while x <=5:\n",
    "    print(x**2)\n",
    "    x += 1"
   ]
  },
  {
   "cell_type": "code",
   "execution_count": 4,
   "metadata": {},
   "outputs": [],
   "source": [
    "# Aklımdaki sayıyı tahmin et oyunu kodlarını yazınız"
   ]
  },
  {
   "cell_type": "code",
   "execution_count": 3,
   "metadata": {},
   "outputs": [
    {
     "name": "stdout",
     "output_type": "stream",
     "text": [
      "Sayıyı artırın\n",
      "Sayıyı artırın\n",
      "Sayıyı azaltın.\n",
      "Sayıyı azaltın.\n",
      "Sayıyı artırın\n",
      "Sayıyı azaltın.\n",
      " 33 sayısını buldunuz tebrikler\n"
     ]
    }
   ],
   "source": [
    "y = True\n",
    "aklimdaki_sayi = 33\n",
    "\n",
    "while y:\n",
    "    tahmin = int(input(\"1-100 arasında bir sayı tahmin ediniz\"))\n",
    "\n",
    "    if tahmin < aklimdaki_sayi:\n",
    "        print(\"Sayıyı artırın\")\n",
    "\n",
    "    elif tahmin > aklimdaki_sayi:\n",
    "        print(\"Sayıyı azaltın.\")\n",
    "    else:\n",
    "        print(f\"{aklimdaki_sayi} sayısını buldunuz tebrikler\")\n",
    "        y = False\n"
   ]
  },
  {
   "cell_type": "code",
   "execution_count": 7,
   "metadata": {},
   "outputs": [],
   "source": [
    "# Aklımdaki sayıyı tahmin et oyununa bir sayaç ekleyiniz"
   ]
  },
  {
   "cell_type": "code",
   "execution_count": 14,
   "metadata": {},
   "outputs": [
    {
     "name": "stdout",
     "output_type": "stream",
     "text": [
      "Tahmininiz 15, lütfen sayıyı artırın\n",
      "Tahmininiz 60, lütfen sayıyı azaltın.\n",
      "Tahmininiz 50, lütfen sayıyı azaltın.\n",
      "Tahmininiz 50, lütfen sayıyı azaltın.\n",
      "Tahmininiz 45, lütfen sayıyı azaltın.\n",
      "5 tahmin hakkınızı doldurdunuz, bulmaya çalıştığınız sayı 33\n"
     ]
    }
   ],
   "source": [
    "y = True\n",
    "aklimdaki_sayi = 33\n",
    "sayac = 0\n",
    "\n",
    "while y:\n",
    "    tahmin = int(input(\"1-100 arasında bir sayı tahmin ediniz\"))\n",
    "    sayac += 1\n",
    "\n",
    "    if tahmin < aklimdaki_sayi:\n",
    "        print(f\"Tahmininiz {tahmin}, lütfen sayıyı artırın\")\n",
    "\n",
    "    elif tahmin > aklimdaki_sayi:\n",
    "        print(f\"Tahmininiz {tahmin}, lütfen sayıyı azaltın.\")\n",
    "    else:\n",
    "        print(f\"{aklimdaki_sayi} sayısını {sayac} denemede buldunuz tebrikler\")\n",
    "        y = False\n",
    "\n",
    "    if sayac == 5:\n",
    "        y = False\n",
    "        print(f\"5 tahmin hakkınızı doldurdunuz, bulmaya çalıştığınız sayı {aklimdaki_sayi}\")    "
   ]
  },
  {
   "cell_type": "code",
   "execution_count": null,
   "metadata": {},
   "outputs": [],
   "source": []
  }
 ],
 "metadata": {
  "kernelspec": {
   "display_name": "Python 3",
   "language": "python",
   "name": "python3"
  },
  "language_info": {
   "codemirror_mode": {
    "name": "ipython",
    "version": 3
   },
   "file_extension": ".py",
   "mimetype": "text/x-python",
   "name": "python",
   "nbconvert_exporter": "python",
   "pygments_lexer": "ipython3",
   "version": "3.12.1"
  }
 },
 "nbformat": 4,
 "nbformat_minor": 2
}
