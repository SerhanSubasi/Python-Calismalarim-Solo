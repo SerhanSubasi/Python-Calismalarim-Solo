{
 "cells": [
  {
   "cell_type": "markdown",
   "metadata": {},
   "source": [
    "##### Soru 1: \"Mehmet darıca fen lisesinde okumaktadir. Mehmet bilgisayar bilimi dersini çok sevmektedir. Dersin dışında UDEMY ve www.w3school.com sitesini takip ederek bilgisini artırmaktadır.\"\n",
    "\n",
    "#### Yukarıdaki metin değişkeninde yer alan \"Mehmet\" ismini girilen isim ile (input) değiştiren programı yazınız."
   ]
  },
  {
   "cell_type": "code",
   "execution_count": 2,
   "metadata": {},
   "outputs": [
    {
     "name": "stdout",
     "output_type": "stream",
     "text": [
      "Serhan darıca fen lisesinde okumaktadır. Serhan bilgisayar bilimi dersini çok sevmektedir.Dersin dışında UDEMY ve www.w3school.com sitesini takip ederek bilgisini arttırmaktadır.\n"
     ]
    }
   ],
   "source": [
    "metin = \"Mehmet darıca fen lisesinde okumaktadır. Mehmet bilgisayar bilimi dersini çok sevmektedir.Dersin dışında UDEMY ve www.w3school.com sitesini takip ederek bilgisini arttırmaktadır.\"\n",
    "x = input(\"Lütfen bir isim giriniz\")\n",
    "metin = metin.replace(\"Mehmet\", x)\n",
    "print(metin)\n"
   ]
  },
  {
   "cell_type": "markdown",
   "metadata": {},
   "source": [
    "##### While Döngüsü Uygulamaları\n",
    "\n",
    "#### Soru 1: 10'dan 100'e kadar olan sayıları while döngüsünü kullanarak yazdırınız.\n"
   ]
  },
  {
   "cell_type": "code",
   "execution_count": 3,
   "metadata": {},
   "outputs": [
    {
     "name": "stdout",
     "output_type": "stream",
     "text": [
      "10\n",
      "11\n",
      "12\n",
      "13\n",
      "14\n",
      "15\n",
      "16\n",
      "17\n",
      "18\n",
      "19\n",
      "20\n",
      "21\n",
      "22\n",
      "23\n",
      "24\n",
      "25\n",
      "26\n",
      "27\n",
      "28\n",
      "29\n",
      "30\n",
      "31\n",
      "32\n",
      "33\n",
      "34\n",
      "35\n",
      "36\n",
      "37\n",
      "38\n",
      "39\n",
      "40\n",
      "41\n",
      "42\n",
      "43\n",
      "44\n",
      "45\n",
      "46\n",
      "47\n",
      "48\n",
      "49\n",
      "50\n",
      "51\n",
      "52\n",
      "53\n",
      "54\n",
      "55\n",
      "56\n",
      "57\n",
      "58\n",
      "59\n",
      "60\n",
      "61\n",
      "62\n",
      "63\n",
      "64\n",
      "65\n",
      "66\n",
      "67\n",
      "68\n",
      "69\n",
      "70\n",
      "71\n",
      "72\n",
      "73\n",
      "74\n",
      "75\n",
      "76\n",
      "77\n",
      "78\n",
      "79\n",
      "80\n",
      "81\n",
      "82\n",
      "83\n",
      "84\n",
      "85\n",
      "86\n",
      "87\n",
      "88\n",
      "89\n",
      "90\n",
      "91\n",
      "92\n",
      "93\n",
      "94\n",
      "95\n",
      "96\n",
      "97\n",
      "98\n",
      "99\n",
      "100\n"
     ]
    }
   ],
   "source": [
    "x = 10\n",
    "while x <= 100:\n",
    "    print(x)\n",
    "    x += 1\n",
    "    "
   ]
  },
  {
   "cell_type": "markdown",
   "metadata": {},
   "source": [
    "#### Soru 2: 20'den 0'a kadar sayıları azalan şekilde yazan programı while döngüsünü kullanarak yazınız.\n"
   ]
  },
  {
   "cell_type": "code",
   "execution_count": 10,
   "metadata": {},
   "outputs": [
    {
     "name": "stdout",
     "output_type": "stream",
     "text": [
      "20\n",
      "19\n",
      "18\n",
      "17\n",
      "16\n",
      "15\n",
      "14\n",
      "13\n",
      "12\n",
      "11\n",
      "10\n",
      "9\n",
      "8\n",
      "7\n",
      "6\n",
      "5\n",
      "4\n",
      "3\n",
      "2\n",
      "1\n",
      "0\n"
     ]
    }
   ],
   "source": [
    "x = 20\n",
    "while x >= 0:\n",
    "    print(x)\n",
    "    x -= 1\n"
   ]
  },
  {
   "cell_type": "markdown",
   "metadata": {},
   "source": [
    "\n",
    "#### Soru 3: While döngüsünü kullanarak girilen metni 10 defa yazdıran kodları yazınız.\n"
   ]
  },
  {
   "cell_type": "code",
   "execution_count": 12,
   "metadata": {},
   "outputs": [
    {
     "name": "stdout",
     "output_type": "stream",
     "text": [
      "Sylvanas\n",
      "Sylvanas\n",
      "Sylvanas\n",
      "Sylvanas\n",
      "Sylvanas\n",
      "Sylvanas\n",
      "Sylvanas\n",
      "Sylvanas\n",
      "Sylvanas\n",
      "Sylvanas\n"
     ]
    }
   ],
   "source": [
    "text = input(\" Bir metin giriniz\")\n",
    "\n",
    "x = 0\n",
    "while x < 10:\n",
    "    print(text)\n",
    "    x += 1\n"
   ]
  },
  {
   "cell_type": "markdown",
   "metadata": {},
   "source": []
  },
  {
   "cell_type": "markdown",
   "metadata": {},
   "source": [
    "\n",
    "#### Soru 4: soru = \"pythonda string verileri küçük harfe çevirmek için hangi method kullanılır, 3 hakkınız vardır?\"\n",
    "\n",
    "#### Yukarıdaki soruyu cevaplamak için kullanıcıya 3 hak verilecektir. Cevabu bilirse program break ile çıkacaktır."
   ]
  },
  {
   "cell_type": "code",
   "execution_count": 15,
   "metadata": {},
   "outputs": [
    {
     "name": "stdout",
     "output_type": "stream",
     "text": [
      "Tebrikler lower case sorusunu 1. denemede bildiniz!\n"
     ]
    }
   ],
   "source": [
    "\n",
    "cevap = \"lower case\"\n",
    "sayac = 0\n",
    "\n",
    "while True:\n",
    "    soru = input(\"pythonda string verileri küçük harfe çevirmek için hangi method kullanılır, 3 hakkınız vardır?\").lower()\n",
    "    sayac += 1\n",
    "\n",
    "    if cevap == soru:\n",
    "        print(f\"Tebrikler {cevap} sorusunu {sayac}. denemede bildiniz!\")\n",
    "        break\n",
    "    else:\n",
    "        print(f\"{soru} cevabınız yanlıştır, lütfen yeniden giriniz. Kalan hakkınız: {sayac} \")\n",
    "\n",
    "    if sayac == 3:\n",
    "        print(f\"3 cevap hakkınızı doldurdunuz. Sorunun cevabı {cevap} olacaktı.\")\n",
    "        break"
   ]
  },
  {
   "cell_type": "markdown",
   "metadata": {},
   "source": [
    "#### Soru5: While döngüsünü kullanarak kullanıcı istediği kadar sayıyı toplamak istemektedir. Eğer girilen 0 ise programdan çıkan ve toplam sonucunu gösteren programı yazınız."
   ]
  },
  {
   "cell_type": "code",
   "execution_count": 17,
   "metadata": {},
   "outputs": [
    {
     "name": "stdout",
     "output_type": "stream",
     "text": [
      "Program çalışmayı sonlandırdı. Toplam sonucunuz: 8\n"
     ]
    }
   ],
   "source": [
    "\n",
    "toplam = 0\n",
    "\n",
    "while True:\n",
    "    sayi = int(input(\"Lütfen toplamak istediğiniz sayıları tek tek giriniz, sonucu görmek için 0 yazınız.\"))\n",
    "    toplam += sayi\n",
    "    \n",
    "    if sayi == 0:\n",
    "        print(f\"Program çalışmayı sonlandırdı. Toplam sonucunuz: {toplam}\")\n",
    "        break"
   ]
  },
  {
   "cell_type": "code",
   "execution_count": null,
   "metadata": {},
   "outputs": [],
   "source": []
  }
 ],
 "metadata": {
  "kernelspec": {
   "display_name": "Python 3",
   "language": "python",
   "name": "python3"
  },
  "language_info": {
   "codemirror_mode": {
    "name": "ipython",
    "version": 3
   },
   "file_extension": ".py",
   "mimetype": "text/x-python",
   "name": "python",
   "nbconvert_exporter": "python",
   "pygments_lexer": "ipython3",
   "version": "3.12.1"
  }
 },
 "nbformat": 4,
 "nbformat_minor": 2
}
