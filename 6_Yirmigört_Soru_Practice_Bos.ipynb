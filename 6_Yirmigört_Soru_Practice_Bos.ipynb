{
 "cells": [
  {
   "cell_type": "markdown",
   "metadata": {},
   "source": [
    "***Çarpım Tablosu:***\n",
    "- Kullanıcıdan bir sayı alır ve bu sayının çarpım tablosunu 1'den 10'a kadar ekrana yazdırır."
   ]
  },
  {
   "cell_type": "code",
   "execution_count": null,
   "metadata": {},
   "outputs": [],
   "source": [
    "sayi = int(input(\"Bir sayı giriniz\"))\n",
    "\n",
    "for i in range(1,11):\n",
    "    print(f\"{sayi} x {sayi * i}\")"
   ]
  },
  {
   "cell_type": "markdown",
   "metadata": {},
   "source": [
    "***Sayı Tahmin Oyunu:***\n",
    "- Bilgisayar rastgele bir sayı seçsin (örneğin 1 ile 100 arasında).\n",
    "- Kullanıcıdan sayı tahminleri alın ve bilgisayarın seçtiği sayı ile karşılaştırın.\n",
    "- Kullanıcıya sayıyı doğru tahmin edip etmediğini söyleyin.\n",
    "- Tahminler arasında döngü kullanın."
   ]
  },
  {
   "cell_type": "code",
   "execution_count": 3,
   "metadata": {},
   "outputs": [
    {
     "name": "stdout",
     "output_type": "stream",
     "text": [
      "Tahmininiz: 50 Lütfen sayıyı artırın.\n",
      "Tahmininiz: 70 Lütfen sayıyı artırın.\n",
      "Tahmininiz: 90 Lütfen sayıyı azaltın.\n",
      "Tahmininiz: 95 Lütfen sayıyı azaltın.\n",
      "TEBRİKLER! 78 sayısını buldunuz!\n"
     ]
    }
   ],
   "source": [
    "import random\n",
    "\n",
    "pc = random.randint(1,100)\n",
    "sayac = 0\n",
    "\n",
    "while True:\n",
    "    guess = int(input(\"1 ile 100 arasında bir tahminde bulununuz.\"))\n",
    "    sayac +=1\n",
    "    if guess < pc:\n",
    "        print(f\"Tahmininiz: {guess} Lütfen sayıyı artırın.\")\n",
    "    elif guess > pc:\n",
    "        print(f\"Tahmininiz: {guess} Lütfen sayıyı azaltın.\")\n",
    "    elif guess <= 0:\n",
    "        print(f\"Tahmininiz: {guess} Lütfen pozitif bir tamsayı giriniz.\")\n",
    "    else:\n",
    "        print(f\"TEBRİKLER! {pc} sayısını buldunuz!\")\n",
    "        break\n",
    "\n",
    "    if sayac == 5:\n",
    "        print(f\"5 tahmin hakkınız doldu. Bulmaya çalıştığınız sayı şuydu: {pc}\")\n",
    "        break"
   ]
  },
  {
   "cell_type": "markdown",
   "metadata": {},
   "source": [
    "***Mükemmel Sayılar:***\n",
    "\n",
    "- Belirli bir aralıkta mükemmel sayıları bulun.\n",
    "- Mükemmel sayı, kendisi hariç pozitif bölenlerinin toplamı kendisine eşit olan sayıdır."
   ]
  },
  {
   "cell_type": "code",
   "execution_count": 6,
   "metadata": {},
   "outputs": [
    {
     "name": "stdout",
     "output_type": "stream",
     "text": [
      "1 ile 200 arasındaki müko sayılar: [6, 28]\n"
     ]
    }
   ],
   "source": [
    "baslangic = int(input(\"Lütfen bir başlangıç değeri giriniz.\"))\n",
    "bitis = int(input(\"Lütfen bir bitis değeri giriniz.\"))\n",
    "mükolar = []\n",
    "\n",
    "for sayi in range(baslangic,bitis+1):\n",
    "    bölenler = []\n",
    "    for i in range(1,sayi):\n",
    "        if sayi % i == 0:\n",
    "            bölenler.append(i)\n",
    "        \n",
    "    if sum(bölenler) == sayi:\n",
    "        mükolar.append(sayi)\n",
    "\n",
    "print(f\"{baslangic} ile {bitis} arasındaki müko sayılar: {mükolar}\")\n",
    "\n"
   ]
  },
  {
   "cell_type": "markdown",
   "metadata": {},
   "source": [
    "***Asal Sayı Bulucu:***\n",
    "- Kullanıcıdan bir sayı alır ve bu sayının asal olup olmadığını kontrol eder."
   ]
  },
  {
   "cell_type": "code",
   "execution_count": 26,
   "metadata": {},
   "outputs": [
    {
     "name": "stdout",
     "output_type": "stream",
     "text": [
      "4 asal sayı değildir.\n"
     ]
    }
   ],
   "source": [
    "sayi = int(input(\"Bir sayı giriniz\"))\n",
    "\n",
    "if sayi <= 1:\n",
    "   print(f\"{sayi} asal sayı değildir.\")\n",
    "\n",
    "else:\n",
    "    for i in range(2,sayi):\n",
    "        if sayi % i == 0:\n",
    "            print(f\"{sayi} asal sayı değildir.\")\n",
    "            break\n",
    "        else:\n",
    "            print(f\"{sayi} asal sayıdır.\")\n",
    "            break\n",
    "\n",
    "\n",
    "   "
   ]
  },
  {
   "cell_type": "markdown",
   "metadata": {},
   "source": [
    "***Palindrom Kontrolü:***\n",
    "- Kullanıcıdan bir kelime veya cümle alır ve bu kelimenin palindrom olup olmadığını kontrol eder."
   ]
  },
  {
   "cell_type": "code",
   "execution_count": 12,
   "metadata": {},
   "outputs": [
    {
     "name": "stdout",
     "output_type": "stream",
     "text": [
      "3 asal sayı değildir.\n"
     ]
    }
   ],
   "source": [
    "sayi = int(input(\"Bir sayı giriniz\"))\n",
    "bölenlerim = [0]    \n",
    "for i in range(1,sayi):\n",
    "        if sayi % i == 0:\n",
    "            bölenlerim.append(i)\n",
    "        \n",
    "if sayi in bölenlerim and 1 in bölenlerim:\n",
    "    print(f\"{sayi} asal sayıdır.\")\n",
    "else:\n",
    "    print(f\"{sayi} asal sayı değildir.\")\n",
    "        "
   ]
  },
  {
   "cell_type": "markdown",
   "metadata": {},
   "source": [
    "***Müşteri Sipariş Takip Sistemi:***\n",
    "- Kullanıcıdan bir ürün adı, miktarı ve birim fiyatı alarak toplam sipariş tutarını hesaplar. \n",
    "- Ardından kullanıcıya indirim uygulanıp uygulanmayacağını sormaktadır."
   ]
  },
  {
   "cell_type": "code",
   "execution_count": null,
   "metadata": {},
   "outputs": [],
   "source": []
  },
  {
   "cell_type": "markdown",
   "metadata": {},
   "source": [
    "***Giriş Kontrol Sistemi:***\n",
    "- Kullanıcının adını ve yaşını kontrol ederek belirli bir yaşın altındaysa belirli bir bölüme giriş izni verir."
   ]
  },
  {
   "cell_type": "code",
   "execution_count": null,
   "metadata": {},
   "outputs": [],
   "source": []
  },
  {
   "cell_type": "markdown",
   "metadata": {},
   "source": [
    "***Sıcaklık Uyarı Sistemi:***\n",
    "- Kullanıcıdan bir sıcaklık değeri alır ve belirli bir sıcaklık aralığındaysa uygun bir mesaj gösterir."
   ]
  },
  {
   "cell_type": "code",
   "execution_count": null,
   "metadata": {},
   "outputs": [],
   "source": []
  },
  {
   "cell_type": "markdown",
   "metadata": {},
   "source": [
    "***Alışveriş Sepeti Hesaplayıcı:***\n",
    "- Kullanıcıdan bir dizi ürün, miktar ve fiyat alır. Ardından bu ürünleri sepete ekler ve toplam tutarı hesaplar."
   ]
  },
  {
   "cell_type": "code",
   "execution_count": null,
   "metadata": {},
   "outputs": [],
   "source": []
  },
  {
   "cell_type": "markdown",
   "metadata": {},
   "source": [
    "***Toplam Harcama Hesaplayıcı:***\n",
    "- Kullanıcıdan bir ay boyunca günlük harcamalarını alır ve bu harcamaların toplamını gösterir."
   ]
  },
  {
   "cell_type": "code",
   "execution_count": null,
   "metadata": {},
   "outputs": [],
   "source": []
  },
  {
   "cell_type": "markdown",
   "metadata": {},
   "source": [
    "***Kullanıcı Girişi ve Yetkilendirme:***\n",
    "* Kullanıcıdan bir kullanıcı adı ve şifre alır, ardından yetkilendirme yapar."
   ]
  },
  {
   "cell_type": "code",
   "execution_count": null,
   "metadata": {},
   "outputs": [],
   "source": []
  },
  {
   "cell_type": "markdown",
   "metadata": {},
   "source": [
    "***Yemek Siparişi Hesaplayıcı:***\n",
    "* Kullanıcıdan sipariş edilen yemeklerin fiyatlarını ve miktarlarını alarak toplam sipariş tutarını hesaplar."
   ]
  },
  {
   "cell_type": "code",
   "execution_count": null,
   "metadata": {},
   "outputs": [],
   "source": []
  },
  {
   "cell_type": "markdown",
   "metadata": {},
   "source": [
    "***Günlük Adımlar Sayacı:***\n",
    "* Kullanıcıdan bir hafta boyunca günlük adımlarını alır ve haftanın sonunda toplam adım sayısını gösterir."
   ]
  },
  {
   "cell_type": "code",
   "execution_count": null,
   "metadata": {},
   "outputs": [],
   "source": []
  },
  {
   "cell_type": "markdown",
   "metadata": {},
   "source": [
    "***Gelir ve Gider Hesaplayıcı:***\n",
    "* Kullanıcıdan bir ay boyunca gelir ve giderleri alır ve bakiyeyi hesaplar."
   ]
  },
  {
   "cell_type": "code",
   "execution_count": null,
   "metadata": {},
   "outputs": [],
   "source": []
  },
  {
   "cell_type": "markdown",
   "metadata": {},
   "source": [
    "***Fatura Hesaplayıcı:***\n",
    "* Kullanıcıdan ürün miktarı ve birim fiyatı alarak toplam tutarı hesaplar ve KDV ekler."
   ]
  },
  {
   "cell_type": "code",
   "execution_count": null,
   "metadata": {},
   "outputs": [],
   "source": []
  },
  {
   "cell_type": "markdown",
   "metadata": {},
   "source": [
    "***Fibonacci Sayıları:***\n",
    "* Kullanıcıdan bir sınır değeri alarak, Fibonacci sayılarını bu sınır dahilinde ekrana yazdırır."
   ]
  },
  {
   "cell_type": "code",
   "execution_count": null,
   "metadata": {},
   "outputs": [],
   "source": []
  },
  {
   "cell_type": "markdown",
   "metadata": {},
   "source": [
    "***Döviz Dönüştürücü:***\n",
    "* Kullanıcıdan döviz türü ve miktarını alarak, belirli bir döviz kuru üzerinden TL'ye çevirir."
   ]
  },
  {
   "cell_type": "code",
   "execution_count": null,
   "metadata": {},
   "outputs": [],
   "source": []
  },
  {
   "cell_type": "markdown",
   "metadata": {},
   "source": [
    "***Enerji Tüketimi Hesaplayıcı:***\n",
    "* Kullanıcıdan cihazın güç tüketimi (watt) ve kullanım süresini alarak enerji tüketimini hesaplar."
   ]
  },
  {
   "cell_type": "code",
   "execution_count": null,
   "metadata": {},
   "outputs": [],
   "source": []
  },
  {
   "cell_type": "markdown",
   "metadata": {},
   "source": [
    "***Kredi Hesaplayıcı:***\n",
    "* Kullanıcıdan kredi miktarı, faiz oranı ve vade süresini alarak aylık taksit tutarını hesaplar."
   ]
  },
  {
   "cell_type": "code",
   "execution_count": null,
   "metadata": {},
   "outputs": [],
   "source": []
  },
  {
   "cell_type": "markdown",
   "metadata": {},
   "source": [
    "***Not Hesaplayıcı:***\n",
    "* Kullanıcıdan bir öğrencinin sınav notlarını alarak, ortalamayı hesaplar ve belirli bir sınıfa göre notunu bildirir."
   ]
  },
  {
   "cell_type": "code",
   "execution_count": null,
   "metadata": {},
   "outputs": [],
   "source": []
  },
  {
   "cell_type": "markdown",
   "metadata": {},
   "source": [
    "***Alışveriş Listesi:***\n",
    "* Kullanıcıdan alışveriş yapmak istediği ürünleri bir listeye ekleyerek, alışveriş listesini oluşturur."
   ]
  },
  {
   "cell_type": "code",
   "execution_count": null,
   "metadata": {},
   "outputs": [],
   "source": []
  },
  {
   "cell_type": "markdown",
   "metadata": {},
   "source": [
    "***Haftanın Günleri:***\n",
    "* Tuple kullanarak haftanın günlerini bir liste içinde saklar ve kullanıcıdan bir gün seçmesini ister."
   ]
  },
  {
   "cell_type": "code",
   "execution_count": null,
   "metadata": {},
   "outputs": [],
   "source": []
  },
  {
   "cell_type": "markdown",
   "metadata": {},
   "source": [
    "***Meyve Sepeti:***\n",
    "* Kullanıcıdan meyve ve miktarını alarak, bir set içinde benzersiz meyveleri saklar."
   ]
  },
  {
   "cell_type": "code",
   "execution_count": null,
   "metadata": {},
   "outputs": [],
   "source": []
  },
  {
   "cell_type": "markdown",
   "metadata": {},
   "source": [
    "***Öğrenci Bilgi Sistemi:***\n",
    "* Dictionary kullanarak öğrencilerin not bilgilerini saklar ve kullanıcıdan bir öğrenci numarası alarak notları gösterir."
   ]
  },
  {
   "cell_type": "code",
   "execution_count": null,
   "metadata": {},
   "outputs": [],
   "source": []
  }
 ],
 "metadata": {
  "kernelspec": {
   "display_name": "Python 3",
   "language": "python",
   "name": "python3"
  },
  "language_info": {
   "codemirror_mode": {
    "name": "ipython",
    "version": 3
   },
   "file_extension": ".py",
   "mimetype": "text/x-python",
   "name": "python",
   "nbconvert_exporter": "python",
   "pygments_lexer": "ipython3",
   "version": "3.12.1"
  }
 },
 "nbformat": 4,
 "nbformat_minor": 2
}
