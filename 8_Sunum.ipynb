{
 "cells": [
  {
   "cell_type": "markdown",
   "metadata": {},
   "source": [
    "For Loop Syntax'i"
   ]
  },
  {
   "cell_type": "code",
   "execution_count": null,
   "metadata": {},
   "outputs": [],
   "source": [
    "for i in \"techpro\":                 #Snytax\n",
    "    print(i)  "
   ]
  },
  {
   "cell_type": "code",
   "execution_count": null,
   "metadata": {},
   "outputs": [],
   "source": [
    "for i in \"techpro\":                 #Yan yana yazdırma\n",
    "    print(i, end=\"\")                "
   ]
  },
  {
   "cell_type": "code",
   "execution_count": null,
   "metadata": {},
   "outputs": [],
   "source": [
    "for i in (1,2,3,4,5): \t\t        #Değişkene atamak şart değil!\n",
    "    print(f\"{i}: {i ** 2}\")                 "
   ]
  },
  {
   "cell_type": "markdown",
   "metadata": {},
   "source": [
    "For ile fonksiyon kullanma örneği"
   ]
  },
  {
   "cell_type": "code",
   "execution_count": null,
   "metadata": {},
   "outputs": [],
   "source": [
    "isimler_listesi = [\"erkan\", \"medine\", \"mustafa\",\"metehan\"]\n",
    "for i in isimler_listesi: \n",
    "    print(i.capitalize())               #Fonksiyon - Method Kullanımı"
   ]
  },
  {
   "cell_type": "code",
   "execution_count": null,
   "metadata": {},
   "outputs": [],
   "source": [
    "[ i.capitalize()   for i in isimler_listesi   ]   #List Comprehension örn."
   ]
  },
  {
   "cell_type": "code",
   "execution_count": null,
   "metadata": {},
   "outputs": [],
   "source": [
    "örn = \"Techpro\"\n",
    "str = \"\"\n",
    "\n",
    "for i in örn:\n",
    "    str += i + \"-\"                          #Fonksiyon - Method Kullanımı örn2\n",
    "print(str.strip(\"-\"))"
   ]
  },
  {
   "cell_type": "markdown",
   "metadata": {},
   "source": [
    "Dictionarylerin For Loop ile Kullanımı"
   ]
  },
  {
   "cell_type": "code",
   "execution_count": null,
   "metadata": {},
   "outputs": [],
   "source": [
    "dict_1 = {\"name\": \"dilek\", \"age\" : 26, \"job\" : \"data_scientist\"}\n",
    "\n",
    "for i,j in dict_1.items():                      #Dict Kullanımı\n",
    "    print(f\"Key: {i : <4} Value: {j: <3}\")"
   ]
  },
  {
   "cell_type": "markdown",
   "metadata": {},
   "source": [
    "50 adet yazı yazdırma sorusu"
   ]
  },
  {
   "cell_type": "code",
   "execution_count": null,
   "metadata": {},
   "outputs": [],
   "source": [
    "for i in range(1,51):\n",
    "    print(f\"{i:<2} Max Max Max Super Super Max\")"
   ]
  },
  {
   "cell_type": "markdown",
   "metadata": {},
   "source": [
    "Çarpım tablosu soruları"
   ]
  },
  {
   "cell_type": "code",
   "execution_count": null,
   "metadata": {},
   "outputs": [],
   "source": [
    "num = int(input(\"Çarpımını görmek istediğiniz rakamı giriniz.\"))\n",
    "for i in range(1,11):\n",
    "    print(f\"{i:<2} x  {num * i}\")"
   ]
  },
  {
   "cell_type": "code",
   "execution_count": null,
   "metadata": {},
   "outputs": [],
   "source": [
    "while True:\n",
    "\n",
    "    num = int(input(\"Çarpımını görmek istediğiniz rakamı giriniz.\"))\n",
    "    if 1 <= num <= 9:\n",
    "\n",
    "        for i in range(1,11):\n",
    "            print(f\"{i:<2} x  {num * i}\")\n",
    "        break\n",
    "    else:\n",
    "        print(\"Lütfen 1-9 arasında bir rakam giriniz.\")"
   ]
  },
  {
   "cell_type": "markdown",
   "metadata": {},
   "source": [
    "1'den 50'ye kadar sayıların toplamını bulan kodu yazınız."
   ]
  },
  {
   "cell_type": "code",
   "execution_count": null,
   "metadata": {},
   "outputs": [],
   "source": [
    "toplam = 0\n",
    "for i in range(1,51):\n",
    "    toplam += i\n",
    "print(toplam)"
   ]
  },
  {
   "cell_type": "code",
   "execution_count": null,
   "metadata": {},
   "outputs": [],
   "source": [
    "sum(range(1,51))"
   ]
  },
  {
   "cell_type": "markdown",
   "metadata": {},
   "source": [
    "1'den 50'ye kadar sayıların çift olanlarının toplamını tek olanların karesini yazdıran bulan kodu yazınız."
   ]
  },
  {
   "cell_type": "code",
   "execution_count": null,
   "metadata": {},
   "outputs": [],
   "source": [
    "toplam = 0\n",
    "kareler = []\n",
    "for i in range(1,51):\n",
    "    if i % 2==0:\n",
    "        toplam += i\n",
    "    else:\n",
    "        kareler.append(i ** 2)\n",
    "print(f\"Çiftlerin toplamı: {toplam}\")\n",
    "print(f\"Teklerin kareleri: {kareler}\")"
   ]
  },
  {
   "cell_type": "markdown",
   "metadata": {},
   "source": [
    "1'den 50'ye kadar tek sayıların karelerini bulan List Comprehension kodunu yazınız."
   ]
  },
  {
   "cell_type": "code",
   "execution_count": null,
   "metadata": {},
   "outputs": [],
   "source": [
    "tek_kareler = []\n",
    "tek_kareler = [ i ** 2 for i in range(1,51) if i %2==1]\n",
    "print(tek_kareler)"
   ]
  },
  {
   "cell_type": "markdown",
   "metadata": {},
   "source": [
    "Break & Continue Kullanımı"
   ]
  },
  {
   "cell_type": "markdown",
   "metadata": {},
   "source": [
    "Verilen listedeki sayılar, 3 ve 3'ün katlarına geldiğinde çalışmayı durdursun."
   ]
  },
  {
   "cell_type": "code",
   "execution_count": null,
   "metadata": {},
   "outputs": [],
   "source": [
    "listem = [1,5,7,10,12,15,16,18,20,21]           #break  \n",
    "\n",
    "for i in listem:\n",
    "    if i % 3 == 0:\n",
    "        break   \n",
    "    else:\n",
    "        print(i)"
   ]
  },
  {
   "cell_type": "markdown",
   "metadata": {},
   "source": [
    "Verilen listedeki sayılar, 3 ve 3'ün katlarına geldiğinde çalışmaya devam etsin ancak işlem yapmasın."
   ]
  },
  {
   "cell_type": "code",
   "execution_count": null,
   "metadata": {},
   "outputs": [],
   "source": [
    "for i in listem:\n",
    "    if i % 3 == 0:\n",
    "        continue\n",
    "    else:\n",
    "        print(i)"
   ]
  },
  {
   "cell_type": "markdown",
   "metadata": {},
   "source": [
    "Zip() Örnekleri"
   ]
  },
  {
   "cell_type": "code",
   "execution_count": null,
   "metadata": {},
   "outputs": [],
   "source": [
    "a = \"RedBull\"\n",
    "b = \"Merco\"\n",
    "c = \"Ferrari\"                           #En kısa eleman sayısı kadar çıktı verir.\n",
    "\n",
    "x = list(zip(a,b,c))\n",
    "print(x)"
   ]
  },
  {
   "cell_type": "code",
   "execution_count": null,
   "metadata": {},
   "outputs": [],
   "source": [
    "Pilotlar = (\"Max Verstappen\", \"Fernando Alonso\", \"Lewis Hamilton\", \"Sebastian Vettel\")\n",
    "Numaralar = 33,14,44,5\n",
    "\n",
    "mix = tuple(zip(Pilotlar,Numaralar))            #Bu şekilde tamamını alabildik.\n",
    "print(mix)"
   ]
  },
  {
   "cell_type": "code",
   "execution_count": null,
   "metadata": {},
   "outputs": [],
   "source": [
    "for i,j in mix:                             #For ile zip kullanımı örneği\n",
    "    print(f\"Pilotlar: {i:<17} Numaraları: {j:<4}\")"
   ]
  },
  {
   "cell_type": "markdown",
   "metadata": {},
   "source": [
    "Enumerate Kullanımı;"
   ]
  },
  {
   "cell_type": "code",
   "execution_count": null,
   "metadata": {},
   "outputs": [],
   "source": [
    "name = ['Fulya', 'Bulut', 'Sirius']\n",
    "\n",
    "list(enumerate(name))\n"
   ]
  },
  {
   "cell_type": "markdown",
   "metadata": {},
   "source": [
    "List Comprehensions"
   ]
  },
  {
   "cell_type": "code",
   "execution_count": null,
   "metadata": {},
   "outputs": [],
   "source": [
    "[ i ** 2 for i in listem]"
   ]
  },
  {
   "cell_type": "markdown",
   "metadata": {},
   "source": [
    "[\"Red Bull?\", \"Mercedes*\", \"Ferrari!\"] lisitesindeki  ?, *, ! karakterlerini kaldırınız."
   ]
  },
  {
   "cell_type": "code",
   "execution_count": null,
   "metadata": {},
   "outputs": [],
   "source": [
    "listemiss = [\"Red Bull?\", \"Mercedes*\", \"Ferrari!\"]\n",
    "\n",
    "[ i.strip(\"?*!\") for i in listemiss]"
   ]
  },
  {
   "cell_type": "markdown",
   "metadata": {},
   "source": [
    "[\"R??ed? Bu*ll\", \"Mer*ced?e!s\", \"F?e!rrar?i!\"]  ?, *, ! karakterlerini kaldırınız."
   ]
  },
  {
   "cell_type": "code",
   "execution_count": null,
   "metadata": {},
   "outputs": [],
   "source": [
    "listemiss2 = [\"R??ed? Bu*ll\", \"Mer*ced?e!s\", \"F?e!rrar?i!\"]\n",
    "\n",
    "[ i.replace(\"?\",\"\").replace(\"!\",\"\").replace(\"*\",\"\") for i in listemiss2 ]"
   ]
  },
  {
   "cell_type": "markdown",
   "metadata": {},
   "source": [
    "listem'in çift elemanlarının karesini yazdıran, tek olanları olduğu gibi duran list comprehensions kodunu yazınız."
   ]
  },
  {
   "cell_type": "code",
   "execution_count": null,
   "metadata": {},
   "outputs": [],
   "source": [
    "[i ** 2 if i % 2==0 else i for i in listem ]"
   ]
  },
  {
   "cell_type": "markdown",
   "metadata": {},
   "source": [
    "Hesap makinesi fonksiyonu oluşturunuz."
   ]
  },
  {
   "cell_type": "code",
   "execution_count": null,
   "metadata": {},
   "outputs": [],
   "source": [
    "def hesap_makinesi (sayi1, opt, sayi2):\n",
    "    \"\"\"Hesaplamak istediğiniz sayıyı. karşılaştırma operatörünü ve ikinci sayıyı girmeniz gerekmektedir.\"\"\"\n",
    "\n",
    "    if opt == \"+\":\n",
    "       print(sayi1 + sayi2)\n",
    "\n",
    "    elif opt == \"-\":\n",
    "        print(sayi1 - sayi2)\n",
    "    elif opt == \"*\":\n",
    "        print(sayi1 * sayi2)\n",
    "    elif opt == \"/\":\n",
    "        print(sayi1 / sayi2)\n",
    "    elif opt == \"//\":\n",
    "        print(sayi1 // sayi2)\n",
    "    else:\n",
    "        print(\"Lütfen geçerli bir karşılaştırma operatörü giriniz.\")\n",
    "\n",
    "hesap_makinesi(3,\"*\",5)\n",
    "hesap_makinesi (3,\"+\",5)\n",
    "hesap_makinesi(\"Sebastian\",\"+\",\"Vettel\")"
   ]
  },
  {
   "cell_type": "markdown",
   "metadata": {},
   "source": [
    "Lütfen kendi len() foksiyonunuzu yazınız."
   ]
  },
  {
   "cell_type": "code",
   "execution_count": null,
   "metadata": {},
   "outputs": [],
   "source": [
    "def kendi_lenimiz(x):\n",
    "    \"\"\"Lütfen eleman sayısını öğrenmek istediğiniz iterable ifadeyi içine giriniz\"\"\"\n",
    "    \n",
    "    sayac = 0\n",
    "    for i in x:\n",
    "          sayac += 1\n",
    "\n",
    "    print(sayac)\n",
    "\n",
    "\n",
    "\n",
    "kendi_lenimiz(\"Serhan\")"
   ]
  }
 ],
 "metadata": {
  "kernelspec": {
   "display_name": "Python 3",
   "language": "python",
   "name": "python3"
  },
  "language_info": {
   "codemirror_mode": {
    "name": "ipython",
    "version": 3
   },
   "file_extension": ".py",
   "mimetype": "text/x-python",
   "name": "python",
   "nbconvert_exporter": "python",
   "pygments_lexer": "ipython3",
   "version": "3.12.1"
  }
 },
 "nbformat": 4,
 "nbformat_minor": 2
}
