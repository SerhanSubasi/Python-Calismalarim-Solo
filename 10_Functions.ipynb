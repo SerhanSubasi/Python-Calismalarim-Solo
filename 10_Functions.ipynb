{
 "cells": [
  {
   "cell_type": "code",
   "execution_count": 2,
   "metadata": {},
   "outputs": [],
   "source": [
    "sayılar_listesi = [1,15,2,36,5,89,45,62,52,71,30,56,45,95,61,48]\n",
    "\n",
    "def tek_cift_ayirici(liste,istek):\n",
    "    \"\"\" Bu fonksiyon tek ve çift sayıları birbirinden ayırır \"\"\"\n",
    "    odds = []\n",
    "    evens = []\n",
    "\n",
    "    for i in liste:\n",
    "        if i % 2 == 0:\n",
    "            evens.append(i)\n",
    "        else:\n",
    "            odds.append(i)\n",
    "    \n",
    "    if istek == \"çift\":\n",
    "        return evens\n",
    "    elif istek == \"tek\":\n",
    "        return odds\n",
    "    else:\n",
    "        print(\"Lütfen 'tek' veya 'çift' yazınız \")"
   ]
  },
  {
   "cell_type": "code",
   "execution_count": 3,
   "metadata": {},
   "outputs": [
    {
     "name": "stdout",
     "output_type": "stream",
     "text": [
      "[1, 15, 5, 89, 45, 71, 45, 95, 61]\n"
     ]
    }
   ],
   "source": [
    "tek_cift_ayirici(sayılar_listesi,\"tek\")"
   ]
  },
  {
   "cell_type": "code",
   "execution_count": 4,
   "metadata": {},
   "outputs": [
    {
     "name": "stdout",
     "output_type": "stream",
     "text": [
      "[2, 36, 62, 52, 30, 56, 48]\n"
     ]
    }
   ],
   "source": [
    "tek_cift_ayirici(sayılar_listesi,\"çift\")"
   ]
  },
  {
   "cell_type": "code",
   "execution_count": 5,
   "metadata": {},
   "outputs": [
    {
     "name": "stdout",
     "output_type": "stream",
     "text": [
      "Lütfen 'tek' veya 'çift' yazınız \n"
     ]
    }
   ],
   "source": [
    "tek_cift_ayirici(sayılar_listesi,\"at\")"
   ]
  },
  {
   "cell_type": "code",
   "execution_count": 6,
   "metadata": {},
   "outputs": [],
   "source": [
    "def adin_kadar_kazan(isim):\n",
    "    \"\"\"\" Bu fonksiyon insanların isimlerindeki sesli harf sayısı x 1000 euro para kazandırır. (amin, ağğğmiiin) \"\"\"\n",
    "    sayac = 0\n",
    "    sesliler = [\"a\",\"e\",\"ı\",\"i\",\"o\",\"ö\",\"u\",\"ü\"]\n",
    "\n",
    "    for i in isim.lower():\n",
    "\n",
    "        if i in sesliler:\n",
    "            sayac += 1\n",
    "    return sayac * 1000 \n",
    "\n",
    "\n"
   ]
  },
  {
   "cell_type": "code",
   "execution_count": 8,
   "metadata": {},
   "outputs": [
    {
     "data": {
      "text/plain": [
       "2000"
      ]
     },
     "execution_count": 8,
     "metadata": {},
     "output_type": "execute_result"
    }
   ],
   "source": [
    "adin_kadar_kazan(\"SERHAN\")"
   ]
  },
  {
   "cell_type": "code",
   "execution_count": 13,
   "metadata": {},
   "outputs": [
    {
     "name": "stdout",
     "output_type": "stream",
     "text": [
      "153 sayısı armstrong bir sayıdır.\n"
     ]
    }
   ],
   "source": [
    "sayi = input(\"Bir sayı giriniz lütfen\")\n",
    "uzunluk = len(sayi)\n",
    "toplam = 0\n",
    "\n",
    "for i in sayi:\n",
    "    toplam += int(i) ** uzunluk\n",
    "\n",
    "if toplam == int(sayi):\n",
    "    print (f\"{sayi} sayısı armstrong bir sayıdır.\")\n",
    "else:\n",
    "    print(f\"{sayi} sayısı armstrong bir sayı değildir.\")"
   ]
  },
  {
   "cell_type": "code",
   "execution_count": 14,
   "metadata": {},
   "outputs": [
    {
     "data": {
      "text/plain": [
       "153"
      ]
     },
     "execution_count": 14,
     "metadata": {},
     "output_type": "execute_result"
    }
   ],
   "source": [
    "sum([ int(i) ** uzunluk for i in sayi ])"
   ]
  },
  {
   "cell_type": "code",
   "execution_count": 18,
   "metadata": {},
   "outputs": [],
   "source": [
    "def armstrong(x):\n",
    "    \"\"\" Bu fonksiyon içerisine girilen sayının bir armstrong sayı olup olmadığını sorgular. \"\"\"\n",
    "    x = str(x)\n",
    "\n",
    "    uzunluk = len(x)\n",
    "    toplam = 0\n",
    "\n",
    "    for i in sayi:\n",
    "        toplam += int(i) ** uzunluk\n",
    "\n",
    "    if toplam == int(x):\n",
    "        print (f\"{x} sayısı armstrong bir sayıdır.\")\n",
    "    else:\n",
    "        print(f\"{x} sayısı armstrong bir sayı değildir.\")\n",
    "\n",
    "\n",
    "\n"
   ]
  },
  {
   "cell_type": "code",
   "execution_count": 20,
   "metadata": {},
   "outputs": [
    {
     "name": "stdout",
     "output_type": "stream",
     "text": [
      "153 sayısı armstrong bir sayıdır.\n"
     ]
    }
   ],
   "source": [
    "armstrong(153)"
   ]
  },
  {
   "cell_type": "code",
   "execution_count": 31,
   "metadata": {},
   "outputs": [],
   "source": [
    "def armstrong_2(y):\n",
    "    \"\"\" Bu fonksiyon içerisine girilen sayının bir armstrong sayı olup olmadığını sorgular. \"\"\"\n",
    "    y = str(y)\n",
    "    uzunluk = len(y)\n",
    "    \n",
    "\n",
    "    if int(y) == sum([ int(i) ** uzunluk for i in y]):\n",
    "        return int(y)\n"
   ]
  },
  {
   "cell_type": "code",
   "execution_count": 32,
   "metadata": {},
   "outputs": [
    {
     "data": {
      "text/plain": [
       "153"
      ]
     },
     "execution_count": 32,
     "metadata": {},
     "output_type": "execute_result"
    }
   ],
   "source": [
    "armstrong_2(153)"
   ]
  },
  {
   "cell_type": "code",
   "execution_count": 34,
   "metadata": {},
   "outputs": [
    {
     "name": "stdout",
     "output_type": "stream",
     "text": [
      "[153, 370, 371, 407, 1634, 8208, 9474, 54748, 92727, 93084]\n"
     ]
    }
   ],
   "source": [
    "result = []\n",
    "for i in range(11,100001):\n",
    "    if armstrong_2(i) != None:\n",
    "        result.append(i)\n",
    "print(result)"
   ]
  },
  {
   "cell_type": "code",
   "execution_count": 46,
   "metadata": {},
   "outputs": [],
   "source": [
    "def asal(x):\n",
    "    \n",
    "    if x <= 1:\n",
    "        print(f\"{x} asal sayı değildir\")\n",
    "\n",
    "    else:\n",
    "        for i in range(2,x):\n",
    "            if x % i == 0:\n",
    "                print(f\"{x} asal sayı değildir\")\n",
    "                break\n",
    "        else:\n",
    "            print(f\"{x} asal sayıdır\")\n"
   ]
  },
  {
   "cell_type": "code",
   "execution_count": 50,
   "metadata": {},
   "outputs": [
    {
     "name": "stdout",
     "output_type": "stream",
     "text": [
      "5 asal sayıdır\n"
     ]
    }
   ],
   "source": [
    "asal(5)"
   ]
  }
 ],
 "metadata": {
  "kernelspec": {
   "display_name": "Python 3",
   "language": "python",
   "name": "python3"
  },
  "language_info": {
   "codemirror_mode": {
    "name": "ipython",
    "version": 3
   },
   "file_extension": ".py",
   "mimetype": "text/x-python",
   "name": "python",
   "nbconvert_exporter": "python",
   "pygments_lexer": "ipython3",
   "version": "3.12.1"
  }
 },
 "nbformat": 4,
 "nbformat_minor": 2
}
