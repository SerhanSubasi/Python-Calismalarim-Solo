{
 "cells": [
  {
   "cell_type": "markdown",
   "metadata": {},
   "source": [
    "for syntax'i"
   ]
  },
  {
   "cell_type": "code",
   "execution_count": null,
   "metadata": {},
   "outputs": [],
   "source": [
    "for i in \"techpro\":\n",
    "    print(i, end=\"\")"
   ]
  },
  {
   "cell_type": "markdown",
   "metadata": {},
   "source": [
    "Listedeki sayıların karesini yazdırmak."
   ]
  },
  {
   "cell_type": "code",
   "execution_count": null,
   "metadata": {},
   "outputs": [],
   "source": [
    "liste_1 = [1,2,3,4,5]\n",
    "for i in liste_1:\n",
    "    print(i ** 2)"
   ]
  },
  {
   "cell_type": "code",
   "execution_count": null,
   "metadata": {},
   "outputs": [],
   "source": [
    "[ i ** 2 for i in liste_1 ]"
   ]
  },
  {
   "cell_type": "code",
   "execution_count": null,
   "metadata": {},
   "outputs": [],
   "source": [
    "for i in 1453:  #HATA\n",
    "    print(i)"
   ]
  },
  {
   "cell_type": "markdown",
   "metadata": {},
   "source": [
    "For ile fonksiyon kullanma örneği"
   ]
  },
  {
   "cell_type": "code",
   "execution_count": null,
   "metadata": {},
   "outputs": [],
   "source": [
    "isimler_listesi = [\"erkan\", \"medine\", \"mustafa\",\"metehan\"]\n",
    "\n",
    "for i in isimler_listesi:\n",
    "   print( i.capitalize() )"
   ]
  },
  {
   "cell_type": "code",
   "execution_count": null,
   "metadata": {},
   "outputs": [],
   "source": [
    "[ i.capitalize()   for i in isimler_listesi   ]"
   ]
  },
  {
   "cell_type": "markdown",
   "metadata": {},
   "source": [
    "For ile fonksiyon kullanma örneği 2"
   ]
  },
  {
   "cell_type": "code",
   "execution_count": null,
   "metadata": {},
   "outputs": [],
   "source": [
    "örn = \"Techpro\"\n",
    "str = \"\"\n",
    "\n",
    "for i in örn:\n",
    "    str += i + \"-\"\n",
    "print(str.strip(\"-\"))"
   ]
  },
  {
   "cell_type": "code",
   "execution_count": null,
   "metadata": {},
   "outputs": [],
   "source": [
    "dict_1 = {\"name\": \"dilek\", \"age\" : 26, \"job\" : \"data_scientist\"}\n",
    "\n",
    "for i,j in dict_1.items():\n",
    "    print(f\"Key: {i : <4} Value: {j: <3}\")"
   ]
  },
  {
   "cell_type": "markdown",
   "metadata": {},
   "source": [
    "50 adet yazı yazdırma sorusu"
   ]
  },
  {
   "cell_type": "code",
   "execution_count": null,
   "metadata": {},
   "outputs": [],
   "source": [
    "for i in range(1,51):\n",
    "    print(f\"{i:<2} Max Max Max Super Super Max\")"
   ]
  },
  {
   "cell_type": "markdown",
   "metadata": {},
   "source": [
    "Çarpım tablosu soruları"
   ]
  },
  {
   "cell_type": "code",
   "execution_count": null,
   "metadata": {},
   "outputs": [],
   "source": [
    "num = int(input(\"Çarpımını görmek istediğiniz rakamı giriniz.\"))\n",
    "for i in range(1,11):\n",
    "    print(f\"{i:<2} x  {num * i}\")"
   ]
  },
  {
   "cell_type": "code",
   "execution_count": null,
   "metadata": {},
   "outputs": [],
   "source": [
    "while True:\n",
    "\n",
    "    num = int(input(\"Çarpımını görmek istediğiniz rakamı giriniz.\"))\n",
    "    if 1 <= num <= 9:\n",
    "\n",
    "        for i in range(1,11):\n",
    "            print(f\"{i:<2} x  {num * i}\")\n",
    "        break\n",
    "    else:\n",
    "        print(\"Lütfen 1-9 arasında bir rakam giriniz.\")"
   ]
  },
  {
   "cell_type": "markdown",
   "metadata": {},
   "source": [
    "Çarpım tablosu sorusuna 3 deneme hakkı ekleme"
   ]
  },
  {
   "cell_type": "code",
   "execution_count": null,
   "metadata": {},
   "outputs": [],
   "source": [
    "count = 0\n",
    "while True:\n",
    "\n",
    "    num = int(input(\"Çarpımını görmek istediğiniz rakamı giriniz.\"))\n",
    "    count += 1\n",
    "\n",
    "    if 1 <= num <= 9:\n",
    "\n",
    "        for i in range(1,11):\n",
    "            print(f\"{i:<2} x  {num * i}\")\n",
    "        break\n",
    "    else:\n",
    "        print(\"Lütfen 1-9 arasında bir rakam giriniz.\")\n",
    "        \n",
    "    if count == 3:\n",
    "        print(\"3 hakkınız bitti, sorry not sorry!\")\n",
    "        break"
   ]
  },
  {
   "cell_type": "markdown",
   "metadata": {},
   "source": [
    "1'den 50'ye kadar sayıların toplamını bulan kodu yazınız."
   ]
  },
  {
   "cell_type": "code",
   "execution_count": 49,
   "metadata": {},
   "outputs": [
    {
     "name": "stdout",
     "output_type": "stream",
     "text": [
      "1275\n"
     ]
    }
   ],
   "source": [
    "toplam = 0\n",
    "for i in range(1,51):\n",
    "    toplam += i\n",
    "print(toplam)"
   ]
  },
  {
   "cell_type": "code",
   "execution_count": 51,
   "metadata": {},
   "outputs": [
    {
     "data": {
      "text/plain": [
       "1275"
      ]
     },
     "execution_count": 51,
     "metadata": {},
     "output_type": "execute_result"
    }
   ],
   "source": [
    "sum(range(1,51))"
   ]
  },
  {
   "cell_type": "markdown",
   "metadata": {},
   "source": [
    "1'den 50'ye kadar sayıların çift olanlarının toplamınıi tek olanların karesini yazdıran bulan kodu yazınız."
   ]
  },
  {
   "cell_type": "code",
   "execution_count": null,
   "metadata": {},
   "outputs": [],
   "source": [
    "toplam = 0\n",
    "kareler = []\n",
    "for i in range(1,51):\n",
    "    if i % 2==0:\n",
    "        toplam += i\n",
    "    else:\n",
    "        kareler.append(i ** 2)\n",
    "print(f\"Çiftlerin toplamı: {toplam}\")\n",
    "print(f\"Teklerin kareleri: {kareler}\")"
   ]
  },
  {
   "cell_type": "code",
   "execution_count": 58,
   "metadata": {},
   "outputs": [
    {
     "data": {
      "text/plain": [
       "650"
      ]
     },
     "execution_count": 58,
     "metadata": {},
     "output_type": "execute_result"
    }
   ],
   "source": [
    "sum(range(0,51,2))"
   ]
  },
  {
   "cell_type": "code",
   "execution_count": null,
   "metadata": {},
   "outputs": [],
   "source": [
    "tek_kareler = []\n",
    "tek_kareler = [ i ** 2 for i in range(1,51) if i %2==1]\n",
    "print(tek_kareler)"
   ]
  },
  {
   "cell_type": "markdown",
   "metadata": {},
   "source": []
  },
  {
   "cell_type": "code",
   "execution_count": null,
   "metadata": {},
   "outputs": [],
   "source": []
  }
 ],
 "metadata": {
  "kernelspec": {
   "display_name": "Python 3",
   "language": "python",
   "name": "python3"
  },
  "language_info": {
   "codemirror_mode": {
    "name": "ipython",
    "version": 3
   },
   "file_extension": ".py",
   "mimetype": "text/x-python",
   "name": "python",
   "nbconvert_exporter": "python",
   "pygments_lexer": "ipython3",
   "version": "3.12.1"
  }
 },
 "nbformat": 4,
 "nbformat_minor": 2
}
