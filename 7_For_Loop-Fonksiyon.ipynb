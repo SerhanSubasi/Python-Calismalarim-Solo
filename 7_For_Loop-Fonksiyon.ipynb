{
 "cells": [
  {
   "cell_type": "markdown",
   "metadata": {},
   "source": [
    "for syntax'i"
   ]
  },
  {
   "cell_type": "code",
   "execution_count": null,
   "metadata": {},
   "outputs": [],
   "source": [
    "for i in \"techpro\":\n",
    "    print(i, end=\"\")"
   ]
  },
  {
   "cell_type": "markdown",
   "metadata": {},
   "source": [
    "Listedeki sayıların karesini yazdırmak."
   ]
  },
  {
   "cell_type": "code",
   "execution_count": null,
   "metadata": {},
   "outputs": [],
   "source": [
    "liste_1 = [1,2,3,4,5]\n",
    "for i in liste_1:\n",
    "    print(i ** 2)"
   ]
  },
  {
   "cell_type": "code",
   "execution_count": null,
   "metadata": {},
   "outputs": [],
   "source": [
    "[ i ** 2 for i in liste_1 ]"
   ]
  },
  {
   "cell_type": "code",
   "execution_count": null,
   "metadata": {},
   "outputs": [],
   "source": [
    "for i in 1453:  #HATA\n",
    "    print(i)"
   ]
  },
  {
   "cell_type": "markdown",
   "metadata": {},
   "source": [
    "For ile fonksiyon kullanma örneği"
   ]
  },
  {
   "cell_type": "code",
   "execution_count": null,
   "metadata": {},
   "outputs": [],
   "source": [
    "isimler_listesi = [\"erkan\", \"medine\", \"mustafa\",\"metehan\"]\n",
    "\n",
    "for i in isimler_listesi:\n",
    "   print( i.capitalize() )"
   ]
  },
  {
   "cell_type": "code",
   "execution_count": null,
   "metadata": {},
   "outputs": [],
   "source": [
    "[ i.capitalize()   for i in isimler_listesi   ]"
   ]
  },
  {
   "cell_type": "markdown",
   "metadata": {},
   "source": [
    "For ile fonksiyon kullanma örneği 2"
   ]
  },
  {
   "cell_type": "code",
   "execution_count": null,
   "metadata": {},
   "outputs": [],
   "source": [
    "örn = \"Techpro\"\n",
    "str = \"\"\n",
    "\n",
    "for i in örn:\n",
    "    str += i + \"-\"\n",
    "print(str.strip(\"-\"))"
   ]
  },
  {
   "cell_type": "code",
   "execution_count": null,
   "metadata": {},
   "outputs": [],
   "source": [
    "dict_1 = {\"name\": \"dilek\", \"age\" : 26, \"job\" : \"data_scientist\"}\n",
    "\n",
    "for i,j in dict_1.items():\n",
    "    print(f\"Key: {i : <4} Value: {j: <3}\")"
   ]
  },
  {
   "cell_type": "markdown",
   "metadata": {},
   "source": [
    "50 adet yazı yazdırma sorusu"
   ]
  },
  {
   "cell_type": "code",
   "execution_count": null,
   "metadata": {},
   "outputs": [],
   "source": [
    "for i in range(1,51):\n",
    "    print(f\"{i:<2} Max Max Max Super Super Max\")"
   ]
  },
  {
   "cell_type": "markdown",
   "metadata": {},
   "source": [
    "Çarpım tablosu soruları"
   ]
  },
  {
   "cell_type": "code",
   "execution_count": null,
   "metadata": {},
   "outputs": [],
   "source": [
    "num = int(input(\"Çarpımını görmek istediğiniz rakamı giriniz.\"))\n",
    "for i in range(1,11):\n",
    "    print(f\"{i:<2} x  {num * i}\")"
   ]
  },
  {
   "cell_type": "code",
   "execution_count": null,
   "metadata": {},
   "outputs": [],
   "source": [
    "while True:\n",
    "\n",
    "    num = int(input(\"Çarpımını görmek istediğiniz rakamı giriniz.\"))\n",
    "    if 1 <= num <= 9:\n",
    "\n",
    "        for i in range(1,11):\n",
    "            print(f\"{i:<2} x  {num * i}\")\n",
    "        break\n",
    "    else:\n",
    "        print(\"Lütfen 1-9 arasında bir rakam giriniz.\")"
   ]
  },
  {
   "cell_type": "markdown",
   "metadata": {},
   "source": []
  },
  {
   "cell_type": "code",
   "execution_count": null,
   "metadata": {},
   "outputs": [],
   "source": []
  }
 ],
 "metadata": {
  "kernelspec": {
   "display_name": "Python 3",
   "language": "python",
   "name": "python3"
  },
  "language_info": {
   "codemirror_mode": {
    "name": "ipython",
    "version": 3
   },
   "file_extension": ".py",
   "mimetype": "text/x-python",
   "name": "python",
   "nbconvert_exporter": "python",
   "pygments_lexer": "ipython3",
   "version": "3.12.1"
  }
 },
 "nbformat": 4,
 "nbformat_minor": 2
}
